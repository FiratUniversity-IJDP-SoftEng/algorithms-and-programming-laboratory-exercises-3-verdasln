{
 "cells": [
  {
   "cell_type": "markdown",
   "metadata": {},
   "source": [
    "# Algorithms and Programming\n",
    "# Exercise Notebook (Intermediate Level)\n",
    "\n",
    "### Name:  Verda ASLAN\n",
    "### Student ID: 220543016\n",
    "### Date: 4/4/2025\n",
    "\n"
   ]
  },
  {
   "cell_type": "markdown",
   "metadata": {},
   "source": [
    "\n",
    "# Question 1\n",
    "### Write a Python function `is_prime` that determines if the given integer is a prime number.\n",
    "\n",
    "### Test your function\n",
    "```python\n",
    "print(is_prime(11))  # Expected output: True\n",
    "print(is_prime(15))  # Expected output: False\n",
    "```\n",
    "\n"
   ]
  },
  {
   "cell_type": "code",
   "execution_count": 16,
   "metadata": {},
   "outputs": [
    {
     "name": "stdout",
     "output_type": "stream",
     "text": [
      "True\n",
      "False\n"
     ]
    }
   ],
   "source": [
    "# Your solution here\n",
    "def is_prime(n):\n",
    "    if n <= 1: \n",
    "        return False #olumsuz sayiysa zaten asal sayi degil\n",
    "    if n ==2:\n",
    "        return True # 2 direkt asal\n",
    "    if n % 2 == 0:\n",
    "        return False #ciftse asal degil except 2\n",
    "    for i in range(3, int(n**0.5) + 1, 2): #3den int(n**0.5)+1 e kadar 2ser 2ser\n",
    "        if n % i == 0:                     # n**0.5 n^0.5 yani n'nin koku\n",
    "            return False\n",
    "        \n",
    "    return True\n",
    "print(is_prime(11)) # true doncek\n",
    "print(is_prime(15)) # no \n",
    "\n",
    "\n",
    "## yukardaki for dongusu icindeki denklemi acikliyorum:\n",
    "## dongu int(n**0.5) + 1 kadar devam eder. yani n in asal sayi olup olmadigini kontrol etmek icin \n",
    "## yalnizca n'in karekokune kadar olan sayilara bakmak kafi yani n 64se 8e kadar olanlar kontrol edilir\n",
    "## altta n%i == 0 false donduruyor cunku asal sayi bolunemez hicbisiye\n"
   ]
  },
  {
   "cell_type": "markdown",
   "metadata": {},
   "source": [
    "# Question 2\n",
    "### Write a Python function `gcd` that calculates the greatest common divisor of two integers using the Euclidean algorithm.\n",
    "\n",
    "### Test your function\n",
    "```python\n",
    "print(gcd(48, 18))  # Expected output: 6\n",
    "print(gcd(100, 25))  # Expected output: 25\n",
    "```"
   ]
  },
  {
   "cell_type": "code",
   "execution_count": 17,
   "metadata": {},
   "outputs": [
    {
     "name": "stdout",
     "output_type": "stream",
     "text": [
      "6\n",
      "25\n"
     ]
    }
   ],
   "source": [
    "# Your solution here\n",
    "## oklid algoritmasini kullan iki tam sayinin ebobunu hesaplayan fonksiyonu yaz\n",
    "\n",
    "## iki sayi a,b  a%b mesela 48%18 bu demek o ki kalani soruyo yani cevabi 48%18=12\n",
    "## sonra b oldu 12 artik a=18 b=12\n",
    "## 18%12= 6 sonra a=12 b=6 12%6=0 kalan 0 cunku yani a=6 kaldi b=0 yani 48 ve 18in ebob'u 6 oldu\n",
    "\n",
    "def gcd(a,b):\n",
    "    while b != 0: # b 0 olmadigi surece devam et yani olana kadar\n",
    "        a, b = b, a%b ## a, b oldu b a%b oldu yani a'nin b'ye bolumunen kalan\n",
    "    return a # en son b=0 oldugunda kalan a degeri ebob oluyo gcd yani\n",
    "\n",
    "print(gcd(48, 18))\n",
    "print(gcd(100, 25))"
   ]
  },
  {
   "cell_type": "markdown",
   "metadata": {},
   "source": [
    "# Question 3\n",
    "### Write a Python function `count_vowels` that takes a string as input and returns the count of vowels (a, e, i, o, u) in the string.\n",
    "\n",
    "### Test your function\n",
    "```python\n",
    "print(count_vowels(\"intermediate\"))  # Expected output: 5\n",
    "print(count_vowels(\"algorithm\"))  # Expected output: 3\n",
    "```"
   ]
  },
  {
   "cell_type": "code",
   "execution_count": 18,
   "metadata": {},
   "outputs": [
    {
     "name": "stdout",
     "output_type": "stream",
     "text": [
      "6\n",
      "3\n"
     ]
    }
   ],
   "source": [
    "# Your solution here \n",
    "## count_vowels adinda fonksiyonyazcaz string alcak ve sesli harfleri dondurcek\n",
    "\n",
    "def count_vowels(a): \n",
    "    vowels = \"aeiou\"\n",
    "    count = 0 #0dan basliyo \n",
    "\n",
    "    for char in a: # verilen kelimedeki her bir harf icin dongu ## a stringindeki her bir harfi tek tek alır ve char değişkenine atar.\n",
    "        if char.lower() in vowels: ## her harfi kucuk harfe donusturur\n",
    "            count += 1 # icindeyse sesli harf sayisinin arttiriyo\n",
    "\n",
    "    return count # sonunda kac tane sesli var onu donduruyo\n",
    "\n",
    "print(count_vowels(\"intermediate\"))\n",
    "print(count_vowels(\"algorithm\"))\n"
   ]
  },
  {
   "cell_type": "markdown",
   "metadata": {},
   "source": [
    "# Question 4\n",
    "### Write a Python function `merge_sorted_lists` that merges two sorted lists into a single sorted list without using built-in sort functions.\n",
    "\n",
    "### Test your function\n",
    "```python\n",
    "print(merge_sorted_lists([1, 3, 5], [2, 4, 6]))  # Expected output: [1, 2, 3, 4, 5, 6]\n",
    "print(merge_sorted_lists([-3, 0, 7], [-1, 4, 10]))  # Expected output: [-3, -1, 0, 4, 7, 10]\n",
    "```\n"
   ]
  },
  {
   "cell_type": "code",
   "execution_count": 19,
   "metadata": {},
   "outputs": [
    {
     "name": "stdout",
     "output_type": "stream",
     "text": [
      "[1, 2, 3, 4, 5, 6]\n",
      "[-3, -1, 0, 4, 7, 10]\n"
     ]
    }
   ],
   "source": [
    "# Your solution here\n",
    "#iki sirali listeyi birlestircez merge sortla\n",
    "\n",
    "def merge_sorted_lists(list1, list2):\n",
    "    result = []\n",
    "    i, j = 0, 0 # baslangic indeksleri 0 \n",
    "\n",
    "    while i < len(list1) and j < len(list2): #eger iki listede bos degilse\n",
    "        if list1[i] < list2[j]: # list1 kucukse bunun elemani resulta ekleniyo \n",
    "            result.append(list1[i])\n",
    "            i +=1\n",
    "        else:                  #else ise yani list1 buyuk ya da esitse list2 ekleniyo resulta\n",
    "            result.append(list2[j])\n",
    "            j +=1\n",
    "\n",
    "    while i < len(list1):\n",
    "        result.append(list1[i])\n",
    "        i +=1\n",
    "\n",
    "    while j < len(list2):\n",
    "        result.append(list2[j])\n",
    "        j +=1\n",
    "    \n",
    "    return result\n",
    "\n",
    "print(merge_sorted_lists([1, 3, 5], [2, 4, 6]))  \n",
    "print(merge_sorted_lists([-3, 0, 7], [-1, 4, 10]))\n"
   ]
  },
  {
   "cell_type": "markdown",
   "metadata": {},
   "source": [
    "# Question 5\n",
    "### Write a Python function `binary_search` that implements the binary search algorithm on a sorted list and returns the index of the element if found, or -1 if not found.\n",
    "\n",
    "### Test your function\n",
    "```python\n",
    "print(binary_search([1, 3, 5, 7, 9, 11], 7))  # Expected output: 3\n",
    "print(binary_search([2, 4, 6, 8, 10], 5))  # Expected output: -1\n",
    "```"
   ]
  },
  {
   "cell_type": "code",
   "execution_count": null,
   "metadata": {},
   "outputs": [
    {
     "name": "stdout",
     "output_type": "stream",
     "text": [
      "3\n",
      "-1\n"
     ]
    }
   ],
   "source": [
    "# Your solution here\n",
    "##ben bunu cok anlamadim ai kullandim hala cok anlamadigim icin yorum satiri eklemedim\n",
    "def binary_search(sorted_list, target):\n",
    "    left, right = 0, len(sorted_list) - 1  \n",
    "    \n",
    "    while left <= right:  \n",
    "        mid = (left + right) // 2  \n",
    "        \n",
    "        if sorted_list[mid] == target: \n",
    "            return mid  \n",
    "        elif sorted_list[mid] < target:  \n",
    "            left = mid + 1\n",
    "        else:  \n",
    "            right = mid - 1\n",
    "    \n",
    "    return -1  \n",
    "\n",
    "print(binary_search([1, 3, 5, 7, 9, 11], 7))  \n",
    "print(binary_search([2, 4, 6, 8, 10], 5))  \n"
   ]
  },
  {
   "cell_type": "markdown",
   "metadata": {},
   "source": []
  }
 ],
 "metadata": {
  "kernelspec": {
   "display_name": "Python 3",
   "language": "python",
   "name": "python3"
  },
  "language_info": {
   "codemirror_mode": {
    "name": "ipython",
    "version": 3
   },
   "file_extension": ".py",
   "mimetype": "text/x-python",
   "name": "python",
   "nbconvert_exporter": "python",
   "pygments_lexer": "ipython3",
   "version": "3.9.6"
  }
 },
 "nbformat": 4,
 "nbformat_minor": 2
}
